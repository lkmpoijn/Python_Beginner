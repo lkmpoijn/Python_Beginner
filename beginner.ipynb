{
 "cells": [
  {
   "cell_type": "markdown",
   "metadata": {},
   "source": [
    "# Python Learning for Beginner\n",
    "\n",
    "## Installation\n",
    "\n",
    "1. Anaconda \n",
    "\t* MacOS: https://repo.anaconda.com/archive/Anaconda3-2023.07-2-MacOSX-x86_64.pkg\n",
    "\t* Windows: https://repo.anaconda.com/archive/Anaconda3-2023.07-2-Windows-x86_64.exe\n",
    "2. Python(Skippable)\n",
    "3. Editor\n",
    "\t* Visual Studio Code\n"
   ]
  },
  {
   "cell_type": "markdown",
   "metadata": {},
   "source": [
    "## Beginning\n",
    "### History of Python\n",
    "\n",
    "1. Python2 vs Python3\n",
    "2. Script "
   ]
  },
  {
   "cell_type": "markdown",
   "metadata": {},
   "source": [
    "sdjalhudiqeb"
   ]
  },
  {
   "cell_type": "markdown",
   "metadata": {},
   "source": [
    "## Calculation and try."
   ]
  },
  {
   "cell_type": "code",
   "execution_count": 1,
   "metadata": {},
   "outputs": [
    {
     "data": {
      "text/plain": [
       "3"
      ]
     },
     "execution_count": 1,
     "metadata": {},
     "output_type": "execute_result"
    }
   ],
   "source": [
    "1+2"
   ]
  },
  {
   "cell_type": "markdown",
   "metadata": {},
   "source": [
    "In python, the five rules for number:\n",
    "1. plus:+\n",
    "2. substract: -\n",
    "3. multiply: *\n",
    "4. divide:/\n",
    "5. power:**\n",
    "\n",
    "$\\lim_{n\\to\\infty}(1+\\frac{1}{n})^n=e$"
   ]
  },
  {
   "cell_type": "code",
   "execution_count": 4,
   "metadata": {},
   "outputs": [
    {
     "data": {
      "text/plain": [
       "2.7169239322355936"
      ]
     },
     "execution_count": 4,
     "metadata": {},
     "output_type": "execute_result"
    }
   ],
   "source": [
    "(1+1/1000)**1000"
   ]
  },
  {
   "cell_type": "markdown",
   "metadata": {},
   "source": [
    "## Array and Tuple\n"
   ]
  },
  {
   "cell_type": "code",
   "execution_count": 6,
   "metadata": {},
   "outputs": [
    {
     "name": "stdout",
     "output_type": "stream",
     "text": [
      "(0, 1, 2, 3)\n"
     ]
    }
   ],
   "source": [
    "a = (0,1,2,3) #Tuple\n",
    "\n",
    "print(a)"
   ]
  },
  {
   "cell_type": "code",
   "execution_count": 7,
   "metadata": {},
   "outputs": [
    {
     "name": "stdout",
     "output_type": "stream",
     "text": [
      "[0, 1, 2, 3, 4]\n"
     ]
    }
   ],
   "source": [
    "b = [0,1,2,3,4] # Array\n",
    "\n",
    "print(b)"
   ]
  },
  {
   "cell_type": "code",
   "execution_count": 8,
   "metadata": {},
   "outputs": [
    {
     "ename": "TypeError",
     "evalue": "'tuple' object does not support item assignment",
     "output_type": "error",
     "traceback": [
      "\u001b[1;31m---------------------------------------------------------------------------\u001b[0m",
      "\u001b[1;31mTypeError\u001b[0m                                 Traceback (most recent call last)",
      "Cell \u001b[1;32mIn[8], line 1\u001b[0m\n\u001b[1;32m----> 1\u001b[0m a[\u001b[39m0\u001b[39;49m] \u001b[39m=\u001b[39m \u001b[39m1\u001b[39m\n",
      "\u001b[1;31mTypeError\u001b[0m: 'tuple' object does not support item assignment"
     ]
    }
   ],
   "source": [
    "a[0] = 1\n"
   ]
  },
  {
   "cell_type": "code",
   "execution_count": 9,
   "metadata": {},
   "outputs": [
    {
     "name": "stdout",
     "output_type": "stream",
     "text": [
      "(0, 1, 2, 3)\n"
     ]
    }
   ],
   "source": [
    "print(a)"
   ]
  },
  {
   "cell_type": "code",
   "execution_count": 10,
   "metadata": {},
   "outputs": [
    {
     "name": "stdout",
     "output_type": "stream",
     "text": [
      "[5, 1, 2, 3, 4]\n"
     ]
    }
   ],
   "source": [
    "b[0] = 5\n",
    "\n",
    "print(b)"
   ]
  },
  {
   "cell_type": "code",
   "execution_count": 12,
   "metadata": {},
   "outputs": [],
   "source": [
    "import numpy as np"
   ]
  },
  {
   "cell_type": "code",
   "execution_count": 15,
   "metadata": {},
   "outputs": [
    {
     "name": "stdout",
     "output_type": "stream",
     "text": [
      "[  0.          16.66666667  33.33333333  50.          66.66666667\n",
      "  83.33333333 100.        ]\n"
     ]
    }
   ],
   "source": [
    "c = np.linspace(0,100,7)\n",
    "print(c)"
   ]
  },
  {
   "cell_type": "markdown",
   "metadata": {},
   "source": [
    "## If and Else"
   ]
  },
  {
   "cell_type": "code",
   "execution_count": 19,
   "metadata": {},
   "outputs": [
    {
     "ename": "IndentationError",
     "evalue": "expected an indented block after 'if' statement on line 3 (3016514331.py, line 4)",
     "output_type": "error",
     "traceback": [
      "\u001b[1;36m  Cell \u001b[1;32mIn[19], line 4\u001b[1;36m\u001b[0m\n\u001b[1;33m    print(\"Woo!\")\u001b[0m\n\u001b[1;37m    ^\u001b[0m\n\u001b[1;31mIndentationError\u001b[0m\u001b[1;31m:\u001b[0m expected an indented block after 'if' statement on line 3\n"
     ]
    }
   ],
   "source": [
    "a = 2\n",
    "b = 1\n",
    "if a<b:\n",
    "    print(\"Woo!\")\n",
    "elif a == b:\n",
    "    print(\"Yeah!\")\n",
    "else:\n",
    "    print(\"Cool\") "
   ]
  },
  {
   "cell_type": "markdown",
   "metadata": {},
   "source": [
    "## While and For"
   ]
  },
  {
   "cell_type": "code",
   "execution_count": 20,
   "metadata": {},
   "outputs": [
    {
     "name": "stdout",
     "output_type": "stream",
     "text": [
      "0\n",
      "1\n",
      "2\n",
      "3\n",
      "4\n"
     ]
    }
   ],
   "source": [
    "for i in range(5):\n",
    "    print(i)"
   ]
  },
  {
   "cell_type": "code",
   "execution_count": 21,
   "metadata": {},
   "outputs": [
    {
     "name": "stdout",
     "output_type": "stream",
     "text": [
      "a\n",
      "b\n",
      "c\n",
      "d\n",
      "e\n"
     ]
    }
   ],
   "source": [
    "STR = ['a','b','c','d','e']\n",
    "\n",
    "for i in STR:\n",
    "    print(i)"
   ]
  },
  {
   "cell_type": "code",
   "execution_count": 1,
   "metadata": {},
   "outputs": [
    {
     "name": "stdout",
     "output_type": "stream",
     "text": [
      "9\n",
      "1000000000\n"
     ]
    }
   ],
   "source": [
    "a = 2\n",
    "while a < 100:\n",
    "    a = (1+a)**a\n",
    "    print(a)"
   ]
  },
  {
   "cell_type": "markdown",
   "metadata": {},
   "source": [
    "## Functions"
   ]
  },
  {
   "cell_type": "code",
   "execution_count": 2,
   "metadata": {},
   "outputs": [],
   "source": [
    "def yield_calculate(n, r, t):\n",
    "    '''\n",
    "    n is the number of interests\n",
    "    r is the rate\n",
    "    t is the maturity\n",
    "    '''\n",
    "    y = (1+r/n)**(n*t)\n",
    "    return y"
   ]
  },
  {
   "cell_type": "code",
   "execution_count": 3,
   "metadata": {},
   "outputs": [
    {
     "name": "stdout",
     "output_type": "stream",
     "text": [
      "1.051161897881733\n"
     ]
    }
   ],
   "source": [
    "n = 12\n",
    "r = 0.05\n",
    "t = 1\n",
    "# integet\n",
    "y = yield_calculate(n,r,t)\n",
    "print(y)"
   ]
  },
  {
   "cell_type": "code",
   "execution_count": 5,
   "metadata": {},
   "outputs": [
    {
     "name": "stdout",
     "output_type": "stream",
     "text": [
      "156.60000000000002\n"
     ]
    }
   ],
   "source": [
    "c = (n+r+t)*n\n",
    "print(c)"
   ]
  },
  {
   "cell_type": "markdown",
   "metadata": {},
   "source": [
    "## Numerical operations on arrays\n",
    "\n",
    "Reference: [numpy](https://numpy.org/doc/stable/user/index.html)"
   ]
  },
  {
   "cell_type": "code",
   "execution_count": 8,
   "metadata": {},
   "outputs": [],
   "source": [
    "import numpy as np"
   ]
  },
  {
   "cell_type": "code",
   "execution_count": 9,
   "metadata": {},
   "outputs": [],
   "source": [
    "# array creation in numpy\n",
    "\n",
    "a1D = np.array([1, 2, 3, 4])\n",
    "a2D = np.array([[1, 2], [3, 4]])\n",
    "a3D = np.array([[[1, 2], [3, 4]], [[5, 6], [7, 8]]])"
   ]
  },
  {
   "cell_type": "code",
   "execution_count": 11,
   "metadata": {},
   "outputs": [],
   "source": [
    "a_lin = np.linspace(0,102,51,endpoint=False)\n",
    "b_lin = np.linspace(0,100,50)"
   ]
  },
  {
   "cell_type": "code",
   "execution_count": 12,
   "metadata": {},
   "outputs": [
    {
     "data": {
      "text/plain": [
       "2.0408163265306123"
      ]
     },
     "execution_count": 12,
     "metadata": {},
     "output_type": "execute_result"
    }
   ],
   "source": [
    "100/49"
   ]
  },
  {
   "cell_type": "code",
   "execution_count": 14,
   "metadata": {},
   "outputs": [],
   "source": [
    "# zero matrix\n",
    "zero_matrix_1 = np.zeros(5)\n",
    "zero_matrix_2 = np.zeros([5,5])\n",
    "zero_matrix_3 = np.zeros([5,6])"
   ]
  },
  {
   "cell_type": "code",
   "execution_count": 16,
   "metadata": {},
   "outputs": [
    {
     "name": "stdout",
     "output_type": "stream",
     "text": [
      "[[0. 0. 0. 0. 0. 0.]\n",
      " [0. 0. 0. 0. 0. 0.]\n",
      " [0. 0. 0. 0. 0. 0.]\n",
      " [0. 0. 0. 0. 0. 0.]\n",
      " [0. 0. 0. 0. 0. 0.]]\n"
     ]
    }
   ],
   "source": [
    "print(zero_matrix_3)"
   ]
  },
  {
   "cell_type": "code",
   "execution_count": 37,
   "metadata": {},
   "outputs": [],
   "source": [
    "# random matrix\n",
    "\n",
    "rand_matrix = np.random.random(5)\n",
    "rand_matrix_1 = np.random.random([5,5])\n",
    "rand_matrix_2 = np.random.random([5,6])"
   ]
  },
  {
   "cell_type": "code",
   "execution_count": 17,
   "metadata": {},
   "outputs": [
    {
     "name": "stdout",
     "output_type": "stream",
     "text": [
      "[[0 0 0 0]\n",
      " [0 1 0 0]\n",
      " [0 0 2 0]\n",
      " [0 0 0 3]]\n"
     ]
    }
   ],
   "source": [
    "# diag matrix\n",
    "\n",
    "a = [1,1,1,1]\n",
    "\n",
    "diag_matrix = np.diag(a)\n",
    "\n",
    "print(diag_matrix)"
   ]
  },
  {
   "cell_type": "code",
   "execution_count": 18,
   "metadata": {},
   "outputs": [
    {
     "name": "stdout",
     "output_type": "stream",
     "text": [
      "[1. 1. 1. 1. 1.]\n"
     ]
    }
   ],
   "source": [
    "# ones\n",
    "\n",
    "one_matrix = np.ones(5)\n",
    "one_matrix_1 = np.ones([5,5])\n",
    "one_matrix_1 = np.ones([5,6])\n",
    "\n",
    "print(one_matrix)"
   ]
  },
  {
   "cell_type": "code",
   "execution_count": 2,
   "metadata": {},
   "outputs": [
    {
     "name": "stdout",
     "output_type": "stream",
     "text": [
      "[[0.77512468 0.09604685 0.18261702]\n",
      " [0.97028384 0.84759452 0.85183399]]\n",
      "[[0.30558695 0.87681326 0.96515031]\n",
      " [0.34211825 0.16461504 0.85618905]]\n",
      "[[1.08071163 0.97286011 1.14776733]\n",
      " [1.31240209 1.01220956 1.70802304]]\n"
     ]
    }
   ],
   "source": [
    "# matrix add\n",
    "\n",
    "matrix_a = np.random.random([2,3])\n",
    "matrix_b = np.random.random([2,3])\n",
    "\n",
    "result = matrix_a+matrix_b\n",
    "print(matrix_a)\n",
    "print(matrix_b)\n",
    "print(result)"
   ]
  },
  {
   "cell_type": "code",
   "execution_count": 11,
   "metadata": {},
   "outputs": [],
   "source": [
    "matrix_a = np.array([[0,1],[2,3]])\n",
    "matrix_b = np.array([[4,5],[6,7]])"
   ]
  },
  {
   "cell_type": "code",
   "execution_count": 12,
   "metadata": {},
   "outputs": [],
   "source": [
    "# matrix multiply\n",
    "\n",
    "result_1 = matrix_a * matrix_b\n",
    "\n",
    "result_2 = np.dot(matrix_a, matrix_b.T)\n",
    "\n",
    "result_3 = np.matmul(matrix_a,matrix_b.T)"
   ]
  },
  {
   "cell_type": "code",
   "execution_count": 24,
   "metadata": {},
   "outputs": [
    {
     "name": "stdout",
     "output_type": "stream",
     "text": [
      "[[[ 0  1]\n",
      "  [ 2  3]\n",
      "  [ 4  5]\n",
      "  [ 6  7]]\n",
      "\n",
      " [[ 8  9]\n",
      "  [10 11]\n",
      "  [12 13]\n",
      "  [14 15]]]\n"
     ]
    }
   ],
   "source": [
    "a = np.arange(2 * 2 * 4).reshape(2,4,2)\n",
    "print(a)"
   ]
  },
  {
   "cell_type": "markdown",
   "metadata": {},
   "source": [
    "## Package\n",
    "\n",
    "Python is a game, and packages are the DLC. Most important packages:\n",
    "* numpy\n",
    "* pandas\n",
    "* scipy\n",
    "* matplotlib\n",
    "* sklearn\n",
    "\n",
    "### How to install\n",
    "\n",
    "In the terminal, use \n",
    "''' pip install X'''\n",
    "\n",
    "and in your code box use\n",
    "\n",
    "''' import X'''"
   ]
  },
  {
   "cell_type": "code",
   "execution_count": 47,
   "metadata": {},
   "outputs": [
    {
     "data": {
      "text/plain": [
       "14"
      ]
     },
     "execution_count": 47,
     "metadata": {},
     "output_type": "execute_result"
    }
   ],
   "source": [
    "a[1,3,0]"
   ]
  },
  {
   "cell_type": "markdown",
   "metadata": {},
   "source": [
    "## Team Work & Project Management\n",
    "\n",
    "git: https://git-scm.com/downloads\n",
    "\n",
    "github: https://github.com"
   ]
  },
  {
   "cell_type": "markdown",
   "metadata": {},
   "source": [
    "## Other Resources\n",
    "\n",
    "1. Chatgpt\n",
    "2. StackOverFlow\n",
    "3. Google\n",
    "4. Github\n",
    "5. Wenshan"
   ]
  },
  {
   "cell_type": "markdown",
   "metadata": {},
   "source": [
    "## Final Test"
   ]
  },
  {
   "cell_type": "code",
   "execution_count": 14,
   "metadata": {},
   "outputs": [
    {
     "name": "stdout",
     "output_type": "stream",
     "text": [
      "[*********************100%%**********************]  1 of 1 completed\n",
      "[*********************100%%**********************]  1 of 1 completed\n",
      "Slope: [[1.04445468]]\n",
      "Intercept: [0.00149395]\n",
      "Root mean squared error 0.0009387024490808166\n",
      "R2 score: 0.10482903540618049\n"
     ]
    },
    {
     "data": {
      "image/png": "[encoded data removed]",
      "text/plain": [
       "<Figure size 640x480 with 1 Axes>"
      ]
     },
     "metadata": {},
     "output_type": "display_data"
    }
   ],
   "source": [
    "# -*- coding: utf-8 -*-\n",
    "## Regression Analysis\n",
    "\n",
    "import matplotlib.pyplot as plt\n",
    "import yfinance as yf\n",
    "from sklearn.linear_model import LinearRegression\n",
    "from sklearn.metrics import mean_squared_error, r2_score\n",
    "\n",
    "## generate dataset\n",
    "\n",
    "SPY = yf.download(\"SPY\",\n",
    "                  start=\"2009-01-01\",\n",
    "                  end=\"2020-02-01\")\n",
    "\n",
    "NFLX = yf.download(\"NFLX\",\n",
    "                   start=\"2009-01-01\",\n",
    "                   end=\"2020-02-01\")\n",
    "\n",
    "## Convert to dataframe\n",
    "SPYret = SPY['Adj Close'].pct_change().to_frame()\n",
    "NFLXret = NFLX['Adj Close'].pct_change().to_frame()\n",
    "\n",
    "## Trim the \"nan\"\n",
    "x = SPYret.iloc[1:]\n",
    "y = NFLXret.iloc[1:]\n",
    "\n",
    "## sckit-learn implementation\n",
    "\n",
    "## Model initialization\n",
    "regression_model = LinearRegression()\n",
    "\n",
    "## Fit the data (train the model)\n",
    "regression_model.fit(x, y)\n",
    "\n",
    "## Predict\n",
    "y_predicted = regression_model.predict(x)-regression_model.intercept_\n",
    "\n",
    "## Model evaluation\n",
    "rmse = mean_squared_error(y, y_predicted)\n",
    "r2 = r2_score(y, y_predicted)\n",
    "\n",
    "## Printing values\n",
    "print('Slope:', regression_model.coef_)\n",
    "print('Intercept:', regression_model.intercept_)\n",
    "print('Root mean squared error', rmse)\n",
    "print('R2 score:', r2)\n",
    "\n",
    "## Plotting values\n",
    "\n",
    "## Data points\n",
    "plt.scatter(x, y, s=10)\n",
    "plt.xlabel('x')\n",
    "plt.ylabel('y')\n",
    "\n",
    "## Predicted values\n",
    "plt.plot(x, y_predicted, color='r')\n",
    "plt.show()\n"
   ]
  }
 ],
 "metadata": {
  "kernelspec": {
   "display_name": "Python 3",
   "language": "python",
   "name": "python3"
  },
  "language_info": {
   "codemirror_mode": {
    "name": "ipython",
    "version": 3
   },
   "file_extension": ".py",
   "mimetype": "text/x-python",
   "name": "python",
   "nbconvert_exporter": "python",
   "pygments_lexer": "ipython3",
   "version": "3.10.11"
  },
  "orig_nbformat": 4
 },
 "nbformat": 4,
 "nbformat_minor": 2
}
