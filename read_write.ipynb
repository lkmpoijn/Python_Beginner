{
 "cells": [
  {
   "cell_type": "markdown",
   "metadata": {},
   "source": [
    "# Read data from File\n",
    "\n",
    "get data from excel, csv file"
   ]
  },
  {
   "cell_type": "code",
   "execution_count": 7,
   "metadata": {},
   "outputs": [
    {
     "name": "stdout",
     "output_type": "stream",
     "text": [
      "Requirement already satisfied: xlrd in c:\\users\\15901\\appdata\\local\\packages\\pythonsoftwarefoundation.python.3.10_qbz5n2kfra8p0\\localcache\\local-packages\\python310\\site-packages (2.0.1)\n",
      "Collecting openpyxl\n",
      "  Downloading openpyxl-3.1.2-py2.py3-none-any.whl (249 kB)\n",
      "     ---------------------------------------- 0.0/250.0 kB ? eta -:--:--\n",
      "     -------------------------------------- 250.0/250.0 kB 7.7 MB/s eta 0:00:00\n",
      "Collecting et-xmlfile (from openpyxl)\n",
      "  Downloading et_xmlfile-1.1.0-py3-none-any.whl (4.7 kB)\n",
      "Installing collected packages: et-xmlfile, openpyxl\n",
      "Successfully installed et-xmlfile-1.1.0 openpyxl-3.1.2\n"
     ]
    }
   ],
   "source": [
    "! pip install xlrd\n",
    "! pip install openpyxl\n"
   ]
  },
  {
   "cell_type": "code",
   "execution_count": 9,
   "metadata": {},
   "outputs": [
    {
     "name": "stdout",
     "output_type": "stream",
     "text": [
      "  Unnamed: 0   A   B   C\n",
      "0        one  11  12  13\n",
      "1        two  21  22  23\n",
      "2      three  31  32  33\n"
     ]
    }
   ],
   "source": [
    "import pandas as pd\n",
    "\n",
    "df = pd.read_excel('data/sample.xlsx')\n",
    "\n",
    "print(df) # default: only read the first sheet"
   ]
  },
  {
   "cell_type": "code",
   "execution_count": 10,
   "metadata": {},
   "outputs": [
    {
     "name": "stdout",
     "output_type": "stream",
     "text": [
      "  Unnamed: 0   A   B   C  one  two  three\n",
      "0        one  11  12  13   11   21     31\n",
      "1        two  21  22  23   12   22     32\n",
      "2      three  31  32  33   13   23     33\n"
     ]
    }
   ],
   "source": [
    "# read the sheet 2\n",
    "\n",
    "df1 = pd.read_excel('data/sample.xlsx', sheet_name='test')\n",
    "\n",
    "print(df1)\n"
   ]
  },
  {
   "cell_type": "code",
   "execution_count": 11,
   "metadata": {},
   "outputs": [
    {
     "name": "stdout",
     "output_type": "stream",
     "text": [
      "  Unnamed: 0   A   B   C  one  two  three   a   b   c\n",
      "0        one  11  12  13   11   21     31  11  21  31\n",
      "1        two  21  22  23   12   22     32  12  22  32\n",
      "2      three  31  32  33   13   23     33  13  23  33\n"
     ]
    }
   ],
   "source": [
    "df_csv = pd.read_csv('data/csv_sample.csv')\n",
    "\n",
    "print(df_csv)"
   ]
  },
  {
   "cell_type": "markdown",
   "metadata": {},
   "source": [
    "# Write Data to local File\n",
    "\n",
    "1. Excel\n",
    "2. CSV"
   ]
  },
  {
   "cell_type": "code",
   "execution_count": 14,
   "metadata": {},
   "outputs": [
    {
     "name": "stdout",
     "output_type": "stream",
     "text": [
      "  Unnamed: 0   A   B   C  one  two  three\n",
      "0        one  11  12  13   11   21     31\n",
      "1        two  21  22  23   12   22     32\n",
      "2      three  31  32  33   13   23     33\n"
     ]
    }
   ],
   "source": [
    "print(df1)"
   ]
  },
  {
   "cell_type": "code",
   "execution_count": 16,
   "metadata": {},
   "outputs": [
    {
     "name": "stdout",
     "output_type": "stream",
     "text": [
      "    A  one\n",
      "0  11   11\n",
      "1  21   12\n",
      "2  31   13\n"
     ]
    }
   ],
   "source": [
    "df1_test = df1[['A','one']]\n",
    "print(df1_test)"
   ]
  },
  {
   "cell_type": "code",
   "execution_count": 12,
   "metadata": {},
   "outputs": [],
   "source": [
    "df1.to_excel('data/write_test.xlsx')"
   ]
  },
  {
   "cell_type": "code",
   "execution_count": 14,
   "metadata": {},
   "outputs": [
    {
     "name": "stdout",
     "output_type": "stream",
     "text": [
      "    B  two\n",
      "0  12   21\n",
      "1  22   22\n",
      "2  32   23\n"
     ]
    }
   ],
   "source": [
    "df1_csv_test = df1[['B','two']]\n",
    "print(df1_csv_test)"
   ]
  },
  {
   "cell_type": "code",
   "execution_count": 15,
   "metadata": {},
   "outputs": [],
   "source": [
    "df1_csv_test.to_csv('data/csv_write.csv')"
   ]
  },
  {
   "cell_type": "markdown",
   "metadata": {},
   "source": [
    "# Markdown\n",
    "\n",
    "1. list\n",
    "2. equation\n",
    "3. links\n",
    "4. picture"
   ]
  },
  {
   "cell_type": "markdown",
   "metadata": {},
   "source": [
    "1. test1\n",
    "2. test2\n",
    "    1. level2\n",
    "    2. level2\n",
    "       1. level3\n",
    "\n",
    "* level1\n",
    "  * level2\n",
    "    * level3\n"
   ]
  },
  {
   "cell_type": "markdown",
   "metadata": {},
   "source": [
    "1. inline equation $f(x)=\\frac{1}{n}$\n",
    "2. equation\n",
    "\n",
    "$$\n",
    "f(x)=\\frac{1}{n},\n",
    "$$\n",
    "\n",
    "Useful tools for equation:\n",
    "1. ocr: https://web.baimiaoapp.com/image-to-latex/en\n",
    "2. Online latex equation editor: https://latex.codecogs.com/eqneditor/editor.php"
   ]
  },
  {
   "cell_type": "markdown",
   "metadata": {},
   "source": [
    "Add links in your file to [google.com](https://www.google.com/)"
   ]
  },
  {
   "cell_type": "markdown",
   "metadata": {},
   "source": [
    "Add internet pictures in Markdown\n",
    "![Sakamoto Ryoma](https://upload.wikimedia.org/wikipedia/commons/4/4c/Sakamoto_Ryoma.jpg)"
   ]
  },
  {
   "cell_type": "markdown",
   "metadata": {},
   "source": []
  }
 ],
 "metadata": {
  "kernelspec": {
   "display_name": "Python 3",
   "language": "python",
   "name": "python3"
  },
  "language_info": {
   "codemirror_mode": {
    "name": "ipython",
    "version": 3
   },
   "file_extension": ".py",
   "mimetype": "text/x-python",
   "name": "python",
   "nbconvert_exporter": "python",
   "pygments_lexer": "ipython3",
   "version": "3.10.11"
  },
  "orig_nbformat": 4
 },
 "nbformat": 4,
 "nbformat_minor": 2
}
